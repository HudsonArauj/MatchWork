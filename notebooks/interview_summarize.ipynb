{
 "cells": [
  {
   "cell_type": "code",
   "execution_count": 1,
   "metadata": {},
   "outputs": [
    {
     "data": {
      "text/plain": [
       "True"
      ]
     },
     "execution_count": 1,
     "metadata": {},
     "output_type": "execute_result"
    }
   ],
   "source": [
    "from dotenv import load_dotenv\n",
    "\n",
    "from groq import Groq\n",
    "from langchain_groq import ChatGroq\n",
    "from langchain_core.prompts import ChatPromptTemplate\n",
    "\n",
    "#\n",
    "import joblib\n",
    "import os\n",
    "import nest_asyncio  # noqa: E402\n",
    "nest_asyncio.apply()\n",
    "\n",
    "load_dotenv()"
   ]
  },
  {
   "cell_type": "code",
   "execution_count": 2,
   "metadata": {},
   "outputs": [],
   "source": [
    "from pydantic import BaseModel\n",
    "\n",
    "class Answer(BaseModel):\n",
    "    question: str\n",
    "    answer: str\n",
    "    target: str"
   ]
  },
  {
   "cell_type": "code",
   "execution_count": 3,
   "metadata": {},
   "outputs": [],
   "source": [
    "question_1 = \"Can you describe a situation where you had to work with multiple teams or stakeholders, like in the international Olympic competition, and how you managed to effectively communicate with them?\"\n",
    "target_1 = \"Soft skills, communication, entrepreneurship\"\n",
    "answers_1 = [\"During my involvement in an international competition similar to the Olympics, I had the opportunity to collaborate with teams from different countries, each with unique perspectives and communication styles. To ensure effective communication, I prioritized active listening, took the time to understand each team's goals, and established regular check-ins to align our objectives. I leveraged my soft skills by adapting my communication to suit diverse cultural norms and used my entrepreneurial mindset to encourage innovative approaches, fostering a cooperative environment. This experience not only strengthened my communication skills but also taught me the value of adaptability in dynamic, multi-stakeholder settings.\",\"In an international competition, I worked with teams from various backgrounds, focusing on clear communication and regular check-ins. I listened carefully to understand each team’s needs and used my communication skills to keep everyone aligned. This experience helped me develop my adaptability and an entrepreneurial mindset when collaborating with diverse groups.\",\"I was part of an international competition where I had to work with other teams. We had meetings, and I told them what we were doing. It was sometimes hard to understand each other, but we managed. I didn’t do anything special; we just communicated when needed.\"]"
   ]
  },
  {
   "cell_type": "code",
   "execution_count": 4,
   "metadata": {},
   "outputs": [],
   "source": [
    "question_2 = \"As a competitor in academic-scientific competitions, what motivated you to participate and achieve consecutive gold and silver medals in various fields? How did you balance your time and resources to prepare for these competitions?\"\n",
    "target_2 = \"Motivation, Commitment, responsability\"\n",
    "answers_2 = [\"My motivation came from a genuine love for learning and the excitement of pushing my limits in each competition. I found purpose in setting high goals, and achieving medals motivated me further. Balancing preparation with other responsibilities required strong commitment and discipline. I set a schedule with specific study blocks and practiced time management to ensure I stayed on track. This dedication taught me a lot about responsibility and the importance of committing fully to my goals.\", \"I was motivated by a love for learning and the challenge of doing my best. To prepare for the competitions, I set aside regular study times and managed my schedule carefully to stay committed. It wasn’t easy, but I felt a strong responsibility to balance my time effectively and stay focused on my goals.\", \"I participated because I liked competing and wanted to win medals. I studied when I could and just tried to fit everything in. Sometimes it was hard to manage my time, but I tried my best.\"]"
   ]
  },
  {
   "cell_type": "code",
   "execution_count": 5,
   "metadata": {},
   "outputs": [],
   "source": [
    "question_3 = \"In your role as a developer intern at Insper, can you walk us through a challenging project you worked on, such as the transfer of a programming format from one of the institution's servers? How did you approach the problem, and what skills did you use to overcome any obstacles?\"\n",
    "target_3 = \"Challenge solving, skill communication, self knowlegde\"\n",
    "answers_3 = [\"One challenging project involved transferring a programming format from an Insper server. The process required troubleshooting compatibility issues and understanding the nuances of both server environments. I began by analyzing the technical requirements and identifying potential conflicts, using my problem-solving skills to create a structured approach. I communicated regularly with team members to ensure clarity, and I leaned on my knowledge of scripting and debugging to resolve errors. This project helped me understand my strengths in problem-solving and my ability to adapt quickly, building my self-confidence and honing my technical skills.\",\n",
    "             \"A challenging project was transferring a programming format from one of Insper's servers. I approached it by first identifying compatibility issues and working through them step-by-step. I stayed in touch with my team for feedback and used my debugging skills to handle any problems. Through this, I learned a lot about my strengths in problem-solving and collaboration.\",\n",
    "             \"One project I worked on was transferring a programming format from a server. It was challenging, but I just tried different solutions until it worked. I talked to my team sometimes and used some coding skills. I learned that I could handle these types of tasks.\"]"
   ]
  },
  {
   "cell_type": "code",
   "execution_count": 11,
   "metadata": {},
   "outputs": [
    {
     "name": "stdout",
     "output_type": "stream",
     "text": [
      "Based on the candidate's response, I will analyze their abilities in leadership, boldness, commitment, motivation, and interest, while focusing on the target aspects of soft skills, communication, and entrepreneurship.\n",
      "\n",
      "**Leadership:** The candidate demonstrates some leadership qualities by taking the initiative to establish regular check-ins to align objectives and encourage innovative approaches. However, their response does not showcase a strong, assertive leadership style. Instead, they focus on facilitating collaboration and adapting to diverse cultural norms. Leadership ability: 6/10\n",
      "\n",
      "**Boldness:** The candidate's response does not exhibit boldness or a willingness to take risks. They prioritize active listening and understanding each team's goals, which suggests a more cautious and collaborative approach. While this is not necessarily a negative trait, it does not demonstrate boldness. Boldness: 4/10\n",
      "\n",
      "**Commitment:** The candidate's response suggests a strong commitment to effective communication and collaboration. They took the time to understand each team's goals and adapted their communication style to suit diverse cultural norms. This demonstrates a commitment to achieving common objectives and building strong relationships. Commitment: 8/10\n",
      "\n",
      "**Motivation:** The candidate's response does not explicitly demonstrate motivation, but their enthusiasm for leveraging soft skills and encouraging innovative approaches suggests a genuine interest in collaboration and teamwork. Motivation: 7/10\n",
      "\n",
      "**Interest:** The candidate's response shows a clear interest in communication, collaboration, and entrepreneurship. They highlight the value of adaptability in dynamic, multi-stakeholder settings, which suggests a genuine interest in navigating complex environments. Interest: 8/10\n",
      "\n",
      "**Target aspects:**\n",
      "\n",
      "* **Soft skills:** The candidate's response highlights their ability to adapt to diverse cultural norms and leverage soft skills to facilitate collaboration. They demonstrate a strong understanding of the importance of active listening and empathy in communication. Soft skills: 9/10\n",
      "* **Communication:** The candidate's response showcases their ability to communicate effectively in a multi-stakeholder setting. They prioritize active listening, establish regular check-ins, and adapt their communication style to suit diverse cultural norms. Communication: 9/10\n",
      "* **Entrepreneurship:** The candidate's response mentions their entrepreneurial mindset, which suggests a willingness to think creatively and encourage innovative approaches. However, this aspect is not fully developed in their response. Entrepreneurship: 6/10\n",
      "\n",
      "Overall, the candidate's response demonstrates strong communication and soft skills, as well as a commitment to collaboration and teamwork. While they may not exhibit bold leadership or a strong entrepreneurial spirit, their ability to adapt to diverse cultural norms and facilitate cooperation is a valuable asset in a multi-stakeholder setting.\n"
     ]
    }
   ],
   "source": [
    "import random\n",
    "from langchain_core.output_parsers import StrOutputParser\n",
    "\n",
    "llm_answers = ChatGroq(temperature=0.3, model_name=\"llama-3.1-70b-versatile\")\n",
    "\n",
    "messages = [\n",
    "    (\n",
    "        \"system\",\n",
    "        \"\"\"You are a helpful assistant that works in the People Departament and must analyse the answers of a candidate to a key question, and summarize their ability in: leadership, boldness, commitment, motivation and interest.\n",
    "           Your main role here is to classify candidate response according the different forms of response he gives for each question.\n",
    "           \n",
    "           The question given to the candidate: {question}\n",
    "           The answer he gave: {answer}\n",
    "           What the question tried to probe: {target}\n",
    "\n",
    "           You must give a strict and detailed analyse of the candidate based on this answer and mainly the target aspect of the question, but keep note of the other qualities that may be present on the answer.\n",
    "        \"\"\",\n",
    "    ),\n",
    "]\n",
    "\n",
    "prompt = ChatPromptTemplate.from_messages(messages)\n",
    "\n",
    "chain_structured = prompt | llm_answers | StrOutputParser() \n",
    "\n",
    "ai_msg_1 = chain_structured.invoke({\n",
    "    \"question\": question_1,\n",
    "    \"answer\": answers_1[0],\n",
    "    \"target\": target_1\n",
    "})\n",
    "print(ai_msg_1)"
   ]
  },
  {
   "cell_type": "code",
   "execution_count": 12,
   "metadata": {},
   "outputs": [
    {
     "name": "stdout",
     "output_type": "stream",
     "text": [
      "Based on the candidate's response, I will analyze their ability in the following areas: leadership, boldness, commitment, motivation, and interest.\n",
      "\n",
      "**Motivation (Target Aspect):**\n",
      "The candidate's answer clearly demonstrates their motivation for participating in academic-scientific competitions. They mention a \"genuine love for learning\" and the \"excitement of pushing my limits\" as their primary motivators. This suggests that they are driven by a desire for personal growth and achievement, rather than external factors such as recognition or rewards. Their motivation is also self-sustaining, as they mention that achieving medals motivated them further. This indicates a strong intrinsic motivation that is likely to drive them to continue striving for excellence.\n",
      "\n",
      "**Commitment (Target Aspect):**\n",
      "The candidate's response highlights their commitment to achieving their goals. They mention that balancing preparation with other responsibilities required \"strong commitment and discipline.\" This suggests that they are willing to make sacrifices and put in the effort required to achieve their objectives. They also mention setting a schedule with specific study blocks and practicing time management, which demonstrates their ability to plan and prioritize their time effectively.\n",
      "\n",
      "**Responsibility (Implicit Aspect):**\n",
      "Although not explicitly mentioned as a target aspect, the candidate's response demonstrates a strong sense of responsibility. They mention that their dedication to their goals taught them a lot about responsibility and the importance of committing fully to their goals. This suggests that they take ownership of their actions and are accountable for their outcomes.\n",
      "\n",
      "**Leadership:**\n",
      "While the candidate's response does not directly demonstrate leadership skills, their ability to set goals and prioritize their time effectively suggests that they may have some leadership potential. However, more information would be needed to fully assess their leadership abilities.\n",
      "\n",
      "**Boldness:**\n",
      "The candidate's response does not explicitly demonstrate boldness, as they do not mention taking risks or challenging the status quo. However, their willingness to push their limits and set high goals suggests that they may be willing to take calculated risks to achieve their objectives.\n",
      "\n",
      "**Interest:**\n",
      "The candidate's response clearly demonstrates their interest in learning and academic-scientific competitions. Their \"genuine love for learning\" and \"excitement of pushing my limits\" suggest that they are passionate about their field and enjoy the process of learning and discovery.\n",
      "\n",
      "Overall, the candidate's response suggests that they are highly motivated, committed, and responsible individuals who are driven by a desire for personal growth and achievement. While their leadership and boldness skills are not fully demonstrated in this response, their interest in learning and academic-scientific competitions is clear.\n"
     ]
    }
   ],
   "source": [
    "ai_msg_2 = chain_structured.invoke({\n",
    "    \"question\": question_2,\n",
    "    \"answer\": answers_2[0],\n",
    "    \"target\": target_2\n",
    "})\n",
    "print(ai_msg_2)"
   ]
  },
  {
   "cell_type": "code",
   "execution_count": 13,
   "metadata": {},
   "outputs": [
    {
     "name": "stdout",
     "output_type": "stream",
     "text": [
      "**Analysis of Candidate Response**\n",
      "\n",
      "**Target Aspects: Challenge Solving, Skill Communication, Self-Knowledge**\n",
      "\n",
      "**Challenge Solving (Leadership and Boldness):**\n",
      "The candidate demonstrates a structured approach to problem-solving, showcasing their ability to analyze technical requirements, identify potential conflicts, and create a plan to overcome obstacles. This indicates a proactive and methodical approach to challenge solving, which is a key aspect of leadership and boldness. The candidate's willingness to take on a complex project and resolve compatibility issues also highlights their boldness in tackling challenging tasks.\n",
      "\n",
      "**Skill Communication (Commitment and Motivation):**\n",
      "The candidate effectively communicates their technical skills, such as scripting and debugging, and demonstrates their ability to articulate their thought process and approach to problem-solving. This suggests a strong commitment to sharing knowledge and expertise with team members, which is essential for effective collaboration and teamwork. The candidate's enthusiasm for learning and growth is also evident, as they highlight the project's impact on their self-confidence and technical skills.\n",
      "\n",
      "**Self-Knowledge (Motivation and Interest):**\n",
      "The candidate demonstrates a good understanding of their strengths and weaknesses, recognizing their ability to adapt quickly and problem-solve effectively. This self-awareness is crucial for personal growth and development, and indicates a strong motivation to learn and improve. The candidate's interest in the project is also evident, as they highlight the benefits of the experience and the skills they gained.\n",
      "\n",
      "**Additional Observations:**\n",
      "\n",
      "* The candidate's response suggests a strong analytical mindset, which is essential for problem-solving and critical thinking.\n",
      "* Their ability to communicate technical information in a clear and concise manner indicates strong communication skills.\n",
      "* The candidate's emphasis on teamwork and collaboration suggests a strong commitment to working with others to achieve common goals.\n",
      "\n",
      "**Classification of Candidate Response:**\n",
      "\n",
      "* Leadership: 8/10 (demonstrates a structured approach to problem-solving and boldness in tackling challenging tasks)\n",
      "* Boldness: 8/10 (willingness to take on complex projects and resolve compatibility issues)\n",
      "* Commitment: 8/10 (effective communication of technical skills and commitment to sharing knowledge with team members)\n",
      "* Motivation: 8/10 (enthusiasm for learning and growth, and recognition of personal strengths and weaknesses)\n",
      "* Interest: 8/10 (evident interest in the project and the skills gained)\n",
      "\n",
      "Overall, the candidate's response suggests a strong potential for leadership, boldness, commitment, motivation, and interest in the role of a developer intern at Insper.\n"
     ]
    }
   ],
   "source": [
    "ai_msg_3 = chain_structured.invoke({\n",
    "    \"question\": question_3,\n",
    "    \"answer\": answers_3[0],\n",
    "    \"target\": target_3\n",
    "})\n",
    "print(ai_msg_3)"
   ]
  },
  {
   "cell_type": "code",
   "execution_count": 14,
   "metadata": {},
   "outputs": [
    {
     "data": {
      "text/plain": [
       "AIMessage(content=\"**Professional Profile for the Candidate**\\n\\n**Possible Roles:**\\n\\n* Team Lead/Manager: The candidate's leadership skills, demonstrated through their structured approach to problem-solving and ability to facilitate collaboration, make them a suitable candidate for a team lead or manager role.\\n* Senior Developer: The candidate's technical skills, such as scripting and debugging, and their ability to articulate their thought process and approach to problem-solving, make them a strong candidate for a senior developer role.\\n* Project Manager: The candidate's ability to analyze technical requirements, identify potential conflicts, and create a plan to overcome obstacles demonstrates their potential to manage projects effectively.\\n\\n**Soft Skills:**\\n\\n* Communication: The candidate demonstrates strong communication skills, both written and verbal, and is able to articulate technical information in a clear and concise manner.\\n* Collaboration: The candidate emphasizes the importance of teamwork and collaboration, and demonstrates their ability to work effectively with others to achieve common goals.\\n* Adaptability: The candidate shows a willingness to adapt to diverse cultural norms and is able to adjust their communication style to suit different stakeholders.\\n* Problem-Solving: The candidate demonstrates a structured approach to problem-solving, and is able to analyze technical requirements and identify potential conflicts.\\n\\n**Personality Traits:**\\n\\n* Motivated: The candidate demonstrates a strong motivation to learn and grow, and is driven by a desire for personal growth and achievement.\\n* Responsible: The candidate shows a strong sense of responsibility, and is willing to take ownership of their actions and outcomes.\\n* Analytical: The candidate demonstrates a strong analytical mindset, and is able to think critically and approach problems in a methodical way.\\n* Enthusiastic: The candidate shows a genuine enthusiasm for learning and growth, and is excited about the opportunity to develop their skills and expertise.\\n\\n**Recommendations:**\\n\\n* The candidate would benefit from additional training and development in leadership and boldness, to help them build confidence and take on more challenging roles.\\n* The candidate would be a strong fit for a team lead or manager role, where they can utilize their leadership skills and facilitate collaboration among team members.\\n* The candidate would also be a strong fit for a senior developer role, where they can utilize their technical skills and expertise to drive innovation and growth.\\n\\nOverall, the candidate demonstrates a strong potential for leadership, boldness, commitment, motivation, and interest in the role of a developer intern at Insper. With additional training and development, they have the potential to excel in a team lead or manager role, or as a senior developer.\", additional_kwargs={}, response_metadata={'token_usage': {'completion_tokens': 505, 'prompt_tokens': 1701, 'total_tokens': 2206, 'completion_time': 2.02, 'prompt_time': 0.298742836, 'queue_time': 0.003755418999999982, 'total_time': 2.318742836}, 'model_name': 'llama-3.1-70b-versatile', 'system_fingerprint': 'fp_5c5d1b5cfb', 'finish_reason': 'stop', 'logprobs': None}, id='run-28440d84-7f31-4559-bc21-aaf5b1fa3f21-0', usage_metadata={'input_tokens': 1701, 'output_tokens': 505, 'total_tokens': 2206})"
      ]
     },
     "execution_count": 14,
     "metadata": {},
     "output_type": "execute_result"
    }
   ],
   "source": [
    "profiler = ChatGroq(temperature=0.3, model_name=\"llama-3.1-70b-versatile\")\n",
    "\n",
    "messages = [\n",
    "    (\n",
    "        \"system\",\n",
    "        \"\"\"\n",
    "           Right now, you are a profile reviewer for the department of Human Resources, focused on hiring. \n",
    "           You will recieve 3 analyses of answers given by the candidate, detailing the capabilities shown by them in each question, your role is to create a professional profile for the candidate, which must describe: \n",
    "           - the possible roles the candidate is apt to perform, meaning manager, analist, developer, assistant, head of area, supervisor, and others.\n",
    "           - Their capabilities in soft skills\n",
    "           - The main traces of personality\n",
    "           \n",
    "           The question analyses of the candidate were: {analyses}\n",
    "        \"\"\",\n",
    "    ),\n",
    "]\n",
    "\n",
    "prompt = ChatPromptTemplate.from_messages(messages)\n",
    "\n",
    "chain_structured = prompt | profiler\n",
    "\n",
    "ai_msg = chain_structured.invoke({\n",
    "    \"analyses\": \"\\n\\n\".join([ai_msg_1, ai_msg_2, ai_msg_3])\n",
    "})\n",
    "ai_msg"
   ]
  },
  {
   "cell_type": "code",
   "execution_count": 15,
   "metadata": {},
   "outputs": [
    {
     "name": "stdout",
     "output_type": "stream",
     "text": [
      "**Professional Profile for the Candidate**\n",
      "\n",
      "**Possible Roles:**\n",
      "\n",
      "* Team Lead/Manager: The candidate's leadership skills, demonstrated through their structured approach to problem-solving and ability to facilitate collaboration, make them a suitable candidate for a team lead or manager role.\n",
      "* Senior Developer: The candidate's technical skills, such as scripting and debugging, and their ability to articulate their thought process and approach to problem-solving, make them a strong candidate for a senior developer role.\n",
      "* Project Manager: The candidate's ability to analyze technical requirements, identify potential conflicts, and create a plan to overcome obstacles demonstrates their potential to manage projects effectively.\n",
      "\n",
      "**Soft Skills:**\n",
      "\n",
      "* Communication: The candidate demonstrates strong communication skills, both written and verbal, and is able to articulate technical information in a clear and concise manner.\n",
      "* Collaboration: The candidate emphasizes the importance of teamwork and collaboration, and demonstrates their ability to work effectively with others to achieve common goals.\n",
      "* Adaptability: The candidate shows a willingness to adapt to diverse cultural norms and is able to adjust their communication style to suit different stakeholders.\n",
      "* Problem-Solving: The candidate demonstrates a structured approach to problem-solving, and is able to analyze technical requirements and identify potential conflicts.\n",
      "\n",
      "**Personality Traits:**\n",
      "\n",
      "* Motivated: The candidate demonstrates a strong motivation to learn and grow, and is driven by a desire for personal growth and achievement.\n",
      "* Responsible: The candidate shows a strong sense of responsibility, and is willing to take ownership of their actions and outcomes.\n",
      "* Analytical: The candidate demonstrates a strong analytical mindset, and is able to think critically and approach problems in a methodical way.\n",
      "* Enthusiastic: The candidate shows a genuine enthusiasm for learning and growth, and is excited about the opportunity to develop their skills and expertise.\n",
      "\n",
      "**Recommendations:**\n",
      "\n",
      "* The candidate would benefit from additional training and development in leadership and boldness, to help them build confidence and take on more challenging roles.\n",
      "* The candidate would be a strong fit for a team lead or manager role, where they can utilize their leadership skills and facilitate collaboration among team members.\n",
      "* The candidate would also be a strong fit for a senior developer role, where they can utilize their technical skills and expertise to drive innovation and growth.\n",
      "\n",
      "Overall, the candidate demonstrates a strong potential for leadership, boldness, commitment, motivation, and interest in the role of a developer intern at Insper. With additional training and development, they have the potential to excel in a team lead or manager role, or as a senior developer.\n"
     ]
    }
   ],
   "source": [
    "print(ai_msg.content)"
   ]
  },
  {
   "cell_type": "code",
   "execution_count": null,
   "metadata": {},
   "outputs": [],
   "source": []
  }
 ],
 "metadata": {
  "kernelspec": {
   "display_name": ".venv",
   "language": "python",
   "name": "python3"
  },
  "language_info": {
   "codemirror_mode": {
    "name": "ipython",
    "version": 3
   },
   "file_extension": ".py",
   "mimetype": "text/x-python",
   "name": "python",
   "nbconvert_exporter": "python",
   "pygments_lexer": "ipython3",
   "version": "3.10.11"
  }
 },
 "nbformat": 4,
 "nbformat_minor": 2
}
