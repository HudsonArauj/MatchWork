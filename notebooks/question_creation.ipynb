{
 "cells": [
  {
   "cell_type": "code",
   "execution_count": 1,
   "metadata": {},
   "outputs": [
    {
     "data": {
      "text/plain": [
       "True"
      ]
     },
     "execution_count": 1,
     "metadata": {},
     "output_type": "execute_result"
    }
   ],
   "source": [
    "##### LLAMAPARSE #####\n",
    "from llama_parse import LlamaParse\n",
    "from dotenv import load_dotenv\n",
    "\n",
    "\n",
    "from groq import Groq\n",
    "from langchain_groq import ChatGroq\n",
    "\n",
    "#\n",
    "import joblib\n",
    "import os\n",
    "import nest_asyncio  # noqa: E402\n",
    "nest_asyncio.apply()\n",
    "\n",
    "load_dotenv()"
   ]
  },
  {
   "cell_type": "code",
   "execution_count": 2,
   "metadata": {},
   "outputs": [],
   "source": [
    "parsingInstructionsInterviewer = \"\"\"\n",
    "O documento a seguir é um currículode um possível candidato em busca de vagas.\n",
    "No documento, haverá uma seção contendo as Experiências do candidato e outra contendo as Atividades Extracurriculares dele.\n",
    "Extraia o que conseguir dessas partes e também as informações pessoais do candidato.\n",
    "\"\"\""
   ]
  },
  {
   "cell_type": "code",
   "execution_count": 3,
   "metadata": {},
   "outputs": [
    {
     "name": "stdout",
     "output_type": "stream",
     "text": [
      "Started parsing the file under job_id 6e5b9725-2e04-4c4d-bd04-fc567e0d4728\n"
     ]
    }
   ],
   "source": [
    "llamaparse = LlamaParse(parsing_instruction=parsingInstructionsInterviewer, result_type=\"markdown\")\n",
    "parsed_result = llamaparse.get_json_result(\"CVs\\CV Tales Ivalque.pdf\")"
   ]
  },
  {
   "cell_type": "code",
   "execution_count": 4,
   "metadata": {},
   "outputs": [
    {
     "data": {
      "text/plain": [
       "[{'pages': [{'page': 1,\n",
       "    'text': 'TALES IVALQUE TAVEIRA DE FREITAS\\nBrasileiro, 22 anos\\n+55 11 98584 0164\\ntalesitf@al.insper.edu.br\\n\\nOBJETIVO\\n                           Experiências na área de Dados, Pesquisa e LLMs\\n\\nFORMAÇÃO\\nAgo/21 a Set/26            Insper – Triple Accredited Business School (AACSB, AMBA, EQUIS)\\n                           Bacharelado em Engenharia de Computação\\n                           Desempenho acima de 80% nos trabalhos e provas\\nFev/18 a Jul/21            Colégio Farias Brito – Fortaleza/CE\\n                            3º ano Ensino Médio +Curso preparatório ITA/IME;\\n                            Competência em cálculo diferencial, matemática e física avançada\\n\\nJan/16 a Dez/17            Colégio Módulo – Juazeiro do Norte/CE\\n                           Ensino Médio\\n\\nEXPERIENCIA\\nOut/21 a Dez/21            Insper --Triple Accredited Business School (AACSB, AMBA, EQUIS)\\n                           Desenvolvedor estagiário\\n                           Transferência de formato de programação de um dos servidores de ensino da Instituição.\\n\\nJul/22 a Ago/22            Hyperlocal\\n                           Estagiário de Produtos\\n                           Atuação no planejamento e documentação da API dos principais produtos da empresa\\nAgo/22 -                   Insper\\n                           NINJA de Ciências dos Dados\\n                           Auxílio aos professores das disciplinas na correção de trabalhos e auxílio geral aos alunos da\\n                           matéria.\\n\\nIDIOMAS\\n                           Inglês avançado, Espanhol básico\\n\\nINFORMÁTICA\\n                           Domínio do Pacote Office, com Excel intermediário\\n\\n                           Programação: Python, Arduino, C/C++/C#, Java, Dart\\n\\nEXTRACURRICULAR\\nNov/15                     Porta-voz das equipes brasileiras em competição olímpica internacional\\n                           Tradução em tempo real dos discursos dos representantes das várias equipes participantes.\\nOut/22 -                   Aulas GAS\\n                           Professor de revisão de disciplinas pré Pis e PFs\\n\\nFev/14 a Dez/18             Acervo de conquistas em competições acadêmica-científicas\\n                            Medalhas de Ouro e prata consecutivas em Olimpíadas de Programação, Robótica, Física,\\n                            Matemática e Química',\n",
       "    'md': '**Informações Pessoais:**\\n- Nome: Tales Ivalque Taveira de Freitas\\n- Nacionalidade: Brasileiro\\n- Idade: 22 anos\\n- Telefone: +55 11 98584 0164\\n- E-mail: talesitf@al.insper.edu.br\\n\\n**Objetivo:**\\n- Experiências na área de Dados, Pesquisa e LLMs\\n\\n**Formação:**\\n- **Insper – Triple Accredited Business School (AACSB, AMBA, EQUIS)**\\n- Bacharelado em Engenharia de Computação\\n- Período: Ago/21 a Set/26\\n- Desempenho: Acima de 80% nos trabalhos e provas\\n\\n- **Colégio Farias Brito – Fortaleza/CE**\\n- 3º ano Ensino Médio + Curso preparatório ITA/IME\\n- Período: Fev/18 a Jul/21\\n- Competência em cálculo diferencial, matemática e física avançada\\n\\n- **Colégio Módulo – Juazeiro do Norte/CE**\\n- Ensino Médio\\n- Período: Jan/16 a Dez/17\\n\\n**Experiências:**\\n- **Insper – Triple Accredited Business School (AACSB, AMBA, EQUIS)**\\n- Cargo: Desenvolvedor estagiário\\n- Período: Out/21 a Dez/21\\n- Atividade: Transferência de formato de programação de um dos servidores de ensino da Instituição.\\n\\n- **Hyperlocal**\\n- Cargo: Estagiário de Produtos\\n- Período: Jul/22 a Ago/22\\n- Atividade: Atuação no planejamento e documentação da API dos principais produtos da empresa.\\n\\n- **Insper**\\n- Cargo: NINJA de Ciências dos Dados\\n- Período: Ago/22 - Presente\\n- Atividade: Auxílio aos professores das disciplinas na correção de trabalhos e auxílio geral aos alunos da matéria.\\n\\n**Idiomas:**\\n- Inglês: Avançado\\n- Espanhol: Básico\\n\\n**Informática:**\\n- Domínio do Pacote Office (Excel intermediário)\\n- Programação: Python, Arduino, C/C++/C#, Java, Dart\\n\\n**Atividades Extracurriculares:**\\n- **Nov/15**: Porta-voz das equipes brasileiras em competição olímpica internacional, realizando tradução em tempo real dos discursos dos representantes das várias equipes participantes.\\n- **Out/22 - Presente**: Aulas GAS, atuando como professor de revisão de disciplinas pré Pis e PFs.\\n- **Fev/14 a Dez/18**: Acervo de conquistas em competições acadêmica-científicas, com medalhas de ouro e prata consecutivas em Olimpíadas de Programação, Robótica, Física, Matemática e Química.',\n",
       "    'images': [],\n",
       "    'items': [{'type': 'text',\n",
       "      'value': '**Informações Pessoais:**\\n- Nome: Tales Ivalque Taveira de Freitas\\n- Nacionalidade: Brasileiro\\n- Idade: 22 anos\\n- Telefone: +55 11 98584 0164\\n- E-mail: talesitf@al.insper.edu.br\\n\\n**Objetivo:**\\n- Experiências na área de Dados, Pesquisa e LLMs\\n\\n**Formação:**\\n- **Insper – Triple Accredited Business School (AACSB, AMBA, EQUIS)**\\n- Bacharelado em Engenharia de Computação\\n- Período: Ago/21 a Set/26\\n- Desempenho: Acima de 80% nos trabalhos e provas\\n\\n- **Colégio Farias Brito – Fortaleza/CE**\\n- 3º ano Ensino Médio + Curso preparatório ITA/IME\\n- Período: Fev/18 a Jul/21\\n- Competência em cálculo diferencial, matemática e física avançada\\n\\n- **Colégio Módulo – Juazeiro do Norte/CE**\\n- Ensino Médio\\n- Período: Jan/16 a Dez/17\\n\\n**Experiências:**\\n- **Insper – Triple Accredited Business School (AACSB, AMBA, EQUIS)**\\n- Cargo: Desenvolvedor estagiário\\n- Período: Out/21 a Dez/21\\n- Atividade: Transferência de formato de programação de um dos servidores de ensino da Instituição.\\n\\n- **Hyperlocal**\\n- Cargo: Estagiário de Produtos\\n- Período: Jul/22 a Ago/22\\n- Atividade: Atuação no planejamento e documentação da API dos principais produtos da empresa.\\n\\n- **Insper**\\n- Cargo: NINJA de Ciências dos Dados\\n- Período: Ago/22 - Presente\\n- Atividade: Auxílio aos professores das disciplinas na correção de trabalhos e auxílio geral aos alunos da matéria.\\n\\n**Idiomas:**\\n- Inglês: Avançado\\n- Espanhol: Básico\\n\\n**Informática:**\\n- Domínio do Pacote Office (Excel intermediário)\\n- Programação: Python, Arduino, C/C++/C#, Java, Dart\\n\\n**Atividades Extracurriculares:**\\n- **Nov/15**: Porta-voz das equipes brasileiras em competição olímpica internacional, realizando tradução em tempo real dos discursos dos representantes das várias equipes participantes.\\n- **Out/22 - Presente**: Aulas GAS, atuando como professor de revisão de disciplinas pré Pis e PFs.\\n- **Fev/14 a Dez/18**: Acervo de conquistas em competições acadêmica-científicas, com medalhas de ouro e prata consecutivas em Olimpíadas de Programação, Robótica, Física, Matemática e Química.',\n",
       "      'md': '**Informações Pessoais:**\\n- Nome: Tales Ivalque Taveira de Freitas\\n- Nacionalidade: Brasileiro\\n- Idade: 22 anos\\n- Telefone: +55 11 98584 0164\\n- E-mail: talesitf@al.insper.edu.br\\n\\n**Objetivo:**\\n- Experiências na área de Dados, Pesquisa e LLMs\\n\\n**Formação:**\\n- **Insper – Triple Accredited Business School (AACSB, AMBA, EQUIS)**\\n- Bacharelado em Engenharia de Computação\\n- Período: Ago/21 a Set/26\\n- Desempenho: Acima de 80% nos trabalhos e provas\\n\\n- **Colégio Farias Brito – Fortaleza/CE**\\n- 3º ano Ensino Médio + Curso preparatório ITA/IME\\n- Período: Fev/18 a Jul/21\\n- Competência em cálculo diferencial, matemática e física avançada\\n\\n- **Colégio Módulo – Juazeiro do Norte/CE**\\n- Ensino Médio\\n- Período: Jan/16 a Dez/17\\n\\n**Experiências:**\\n- **Insper – Triple Accredited Business School (AACSB, AMBA, EQUIS)**\\n- Cargo: Desenvolvedor estagiário\\n- Período: Out/21 a Dez/21\\n- Atividade: Transferência de formato de programação de um dos servidores de ensino da Instituição.\\n\\n- **Hyperlocal**\\n- Cargo: Estagiário de Produtos\\n- Período: Jul/22 a Ago/22\\n- Atividade: Atuação no planejamento e documentação da API dos principais produtos da empresa.\\n\\n- **Insper**\\n- Cargo: NINJA de Ciências dos Dados\\n- Período: Ago/22 - Presente\\n- Atividade: Auxílio aos professores das disciplinas na correção de trabalhos e auxílio geral aos alunos da matéria.\\n\\n**Idiomas:**\\n- Inglês: Avançado\\n- Espanhol: Básico\\n\\n**Informática:**\\n- Domínio do Pacote Office (Excel intermediário)\\n- Programação: Python, Arduino, C/C++/C#, Java, Dart\\n\\n**Atividades Extracurriculares:**\\n- **Nov/15**: Porta-voz das equipes brasileiras em competição olímpica internacional, realizando tradução em tempo real dos discursos dos representantes das várias equipes participantes.\\n- **Out/22 - Presente**: Aulas GAS, atuando como professor de revisão de disciplinas pré Pis e PFs.\\n- **Fev/14 a Dez/18**: Acervo de conquistas em competições acadêmica-científicas, com medalhas de ouro e prata consecutivas em Olimpíadas de Programação, Robótica, Física, Matemática e Química.',\n",
       "      'bBox': {'x': 36, 'y': 51.92, 'w': 410.68, 'h': 15.96}}],\n",
       "    'status': 'OK',\n",
       "    'links': []}],\n",
       "  'job_metadata': {'credits_used': 209.0,\n",
       "   'job_credits_usage': 0,\n",
       "   'job_pages': 0,\n",
       "   'job_is_cache_hit': True},\n",
       "  'job_id': '6e5b9725-2e04-4c4d-bd04-fc567e0d4728',\n",
       "  'file_path': 'CVs\\\\CV Tales Ivalque.pdf'}]"
      ]
     },
     "execution_count": 4,
     "metadata": {},
     "output_type": "execute_result"
    }
   ],
   "source": [
    "parsed_result"
   ]
  },
  {
   "cell_type": "code",
   "execution_count": 5,
   "metadata": {},
   "outputs": [
    {
     "data": {
      "text/markdown": [
       "**Informações Pessoais:**\n",
       "- Nome: Tales Ivalque Taveira de Freitas\n",
       "- Nacionalidade: Brasileiro\n",
       "- Idade: 22 anos\n",
       "- Telefone: +55 11 98584 0164\n",
       "- E-mail: talesitf@al.insper.edu.br\n",
       "\n",
       "**Objetivo:**\n",
       "- Experiências na área de Dados, Pesquisa e LLMs\n",
       "\n",
       "**Formação:**\n",
       "- **Insper – Triple Accredited Business School (AACSB, AMBA, EQUIS)**\n",
       "- Bacharelado em Engenharia de Computação\n",
       "- Período: Ago/21 a Set/26\n",
       "- Desempenho: Acima de 80% nos trabalhos e provas\n",
       "\n",
       "- **Colégio Farias Brito – Fortaleza/CE**\n",
       "- 3º ano Ensino Médio + Curso preparatório ITA/IME\n",
       "- Período: Fev/18 a Jul/21\n",
       "- Competência em cálculo diferencial, matemática e física avançada\n",
       "\n",
       "- **Colégio Módulo – Juazeiro do Norte/CE**\n",
       "- Ensino Médio\n",
       "- Período: Jan/16 a Dez/17\n",
       "\n",
       "**Experiências:**\n",
       "- **Insper – Triple Accredited Business School (AACSB, AMBA, EQUIS)**\n",
       "- Cargo: Desenvolvedor estagiário\n",
       "- Período: Out/21 a Dez/21\n",
       "- Atividade: Transferência de formato de programação de um dos servidores de ensino da Instituição.\n",
       "\n",
       "- **Hyperlocal**\n",
       "- Cargo: Estagiário de Produtos\n",
       "- Período: Jul/22 a Ago/22\n",
       "- Atividade: Atuação no planejamento e documentação da API dos principais produtos da empresa.\n",
       "\n",
       "- **Insper**\n",
       "- Cargo: NINJA de Ciências dos Dados\n",
       "- Período: Ago/22 - Presente\n",
       "- Atividade: Auxílio aos professores das disciplinas na correção de trabalhos e auxílio geral aos alunos da matéria.\n",
       "\n",
       "**Idiomas:**\n",
       "- Inglês: Avançado\n",
       "- Espanhol: Básico\n",
       "\n",
       "**Informática:**\n",
       "- Domínio do Pacote Office (Excel intermediário)\n",
       "- Programação: Python, Arduino, C/C++/C#, Java, Dart\n",
       "\n",
       "**Atividades Extracurriculares:**\n",
       "- **Nov/15**: Porta-voz das equipes brasileiras em competição olímpica internacional, realizando tradução em tempo real dos discursos dos representantes das várias equipes participantes.\n",
       "- **Out/22 - Presente**: Aulas GAS, atuando como professor de revisão de disciplinas pré Pis e PFs.\n",
       "- **Fev/14 a Dez/18**: Acervo de conquistas em competições acadêmica-científicas, com medalhas de ouro e prata consecutivas em Olimpíadas de Programação, Robótica, Física, Matemática e Química."
      ],
      "text/plain": [
       "<IPython.core.display.Markdown object>"
      ]
     },
     "metadata": {},
     "output_type": "display_data"
    }
   ],
   "source": [
    "from IPython.display import display, Markdown\n",
    "\n",
    "\n",
    "display(Markdown(parsed_result[0]['pages'][0]['md']))"
   ]
  },
  {
   "cell_type": "code",
   "execution_count": 6,
   "metadata": {},
   "outputs": [],
   "source": [
    "chat_model = ChatGroq(temperature=0, model_name=\"llama-3.1-70b-versatile\")"
   ]
  },
  {
   "cell_type": "code",
   "execution_count": 7,
   "metadata": {},
   "outputs": [],
   "source": [
    "from pydantic import BaseModel, Field\n",
    "from typing import List\n",
    "\n",
    "class Activity(BaseModel):\n",
    "    \"\"\"\n",
    "    A detailed description of an activity and the role of a candidate in them.\n",
    "    \"\"\"\n",
    "    description: str = Field(description = \"What is the activity\")\n",
    "    role: str = Field(description=\"Role the candidate served on the acitivity\")\n",
    "\n",
    "class Topics(BaseModel):\n",
    "    \"\"\"\n",
    "    Lists of maybe important topics for a candidate\n",
    "    \"\"\"\n",
    "    expiriences: List[Activity]\n",
    "    activities: List[Activity]\n",
    "    projects: List[Activity]\n"
   ]
  },
  {
   "cell_type": "code",
   "execution_count": 8,
   "metadata": {},
   "outputs": [
    {
     "data": {
      "text/plain": [
       "Topics(expiriences=[Activity(description='Desenvolvedor estagiário na Insper – Triple Accredited Business School (AACSB, AMBA, EQUIS)', role='Desenvolvedor estagiário'), Activity(description='Estagiário de Produtos na Hyperlocal', role='Estagiário de Produtos'), Activity(description='NINJA de Ciências dos Dados na Insper', role='NINJA de Ciências dos Dados')], activities=[Activity(description='Porta-voz das equipes brasileiras em competição olímpica internacional, realizando tradução em tempo real dos discursos dos representantes das várias equipes participantes.', role='Porta-voz'), Activity(description='Aulas GAS, atuando como professor de revisão de disciplinas pré Pis e PFs.', role='Professor'), Activity(description='Acervo de conquistas em competições acadêmica-científicas, com medalhas de ouro e prata consecutivas em Olimpíadas de Programação, Robótica, Física, Matemática e Química.', role='Competidor')], projects=[Activity(description='Transferência de formato de programação de um dos servidores de ensino da Instituição.', role='Desenvolvedor estagiário'), Activity(description='Atuação no planejamento e documentação da API dos principais produtos da empresa.', role='Estagiário de Produtos'), Activity(description='Auxílio aos professores das disciplinas na correção de trabalhos e auxílio geral aos alunos da matéria.', role='NINJA de Ciências dos Dados')])"
      ]
     },
     "execution_count": 8,
     "metadata": {},
     "output_type": "execute_result"
    }
   ],
   "source": [
    "from langchain_core.prompts import ChatPromptTemplate\n",
    "messages = [\n",
    "    (\n",
    "        \"system\",\n",
    "        \"You are a helpful assistant that hepls identify a candidate's experience, activities and projects based on the following markdown text: {curriculum}. \",\n",
    "    ),\n",
    "    (\n",
    "        \"system\",\n",
    "        \"Here are the topics:\"\n",
    "    )\n",
    "]\n",
    "prompt = ChatPromptTemplate.from_messages(messages)\n",
    "\n",
    "chat_model = chat_model.with_structured_output(Topics)\n",
    "\n",
    "chain_structured = prompt | chat_model\n",
    "response = chain_structured.invoke({\"curriculum\":parsed_result[0]['pages'][0]['md']})\n",
    "response"
   ]
  },
  {
   "cell_type": "code",
   "execution_count": 9,
   "metadata": {},
   "outputs": [
    {
     "data": {
      "text/plain": [
       "[Activity(description='Desenvolvedor estagiário na Insper – Triple Accredited Business School (AACSB, AMBA, EQUIS)', role='Desenvolvedor estagiário'),\n",
       " Activity(description='Estagiário de Produtos na Hyperlocal', role='Estagiário de Produtos'),\n",
       " Activity(description='NINJA de Ciências dos Dados na Insper', role='NINJA de Ciências dos Dados')]"
      ]
     },
     "execution_count": 9,
     "metadata": {},
     "output_type": "execute_result"
    }
   ],
   "source": [
    "response.expiriences"
   ]
  },
  {
   "cell_type": "code",
   "execution_count": 10,
   "metadata": {},
   "outputs": [],
   "source": [
    "class Question(BaseModel):\n",
    "    question1: str = Field(description=\"First question for the candidate\")\n",
    "    question2: str = Field(description=\"Second question for the candidate\")\n",
    "    question3: str = Field(description=\"Third question for the candidate\")"
   ]
  },
  {
   "cell_type": "code",
   "execution_count": 11,
   "metadata": {},
   "outputs": [
    {
     "data": {
      "text/plain": [
       "Question(question1='Can you describe a situation where you had to translate speeches in real-time as a spokesperson for Brazilian teams in an international Olympic competition? How did you handle the pressure and what skills did you use to ensure accurate communication?', question2='As a competitor in academic-scientific competitions, what motivated you to participate and achieve consecutive gold and silver medals in various fields? How did you balance your time and resources to prepare for these competitions?', question3=\"In your role as a developer intern at Insper, can you walk us through a challenging project you worked on, such as the transfer of a programming format from one of the institution's servers? How did you approach the problem, and what skills did you use to overcome any obstacles?\")"
      ]
     },
     "execution_count": 11,
     "metadata": {},
     "output_type": "execute_result"
    }
   ],
   "source": [
    "llm_questions = ChatGroq(temperature=0.3, model_name=\"llama-3.1-70b-versatile\")\n",
    "\n",
    "messages = [\n",
    "    (\n",
    "        \"system\",\n",
    "        \"\"\"You are a helpful assistant that works in the People Departament and must devise meaninful questions based on a candidate's experience, activities and projects.\n",
    "           Your main role here is to identify how the candidate responds to different forms of interations, the commitement of the candidate to the activity, and what motivated him for the activities.\n",
    "           You are to create 3 questions based on the following:\n",
    "           {activities}\n",
    "           {experiences}\n",
    "           {projects}\n",
    "\n",
    "           Remenber, choose questions for topics with the most importance based on leadership, independence, proactivity, personal relations and challenge overcoming.\n",
    "        \"\"\",\n",
    "    ),\n",
    "]\n",
    "\n",
    "prompt = ChatPromptTemplate.from_messages(messages)\n",
    "\n",
    "chain_structured = prompt | llm_questions.with_structured_output(Question)\n",
    "\n",
    "activities = response.activities\n",
    "experiences = response.expiriences\n",
    "projects = response.projects\n",
    "\n",
    "\n",
    "ai_msg = chain_structured.invoke({\n",
    "    \"activities\": activities,\n",
    "    \"experiences\": experiences,\n",
    "    \"projects\": projects\n",
    "})\n",
    "ai_msg"
   ]
  },
  {
   "cell_type": "code",
   "execution_count": 12,
   "metadata": {},
   "outputs": [
    {
     "data": {
      "text/plain": [
       "'Can you describe a situation where you had to translate speeches in real-time as a spokesperson for Brazilian teams in an international Olympic competition? How did you handle the pressure and what skills did you use to ensure accurate communication?'"
      ]
     },
     "execution_count": 12,
     "metadata": {},
     "output_type": "execute_result"
    }
   ],
   "source": [
    "ai_msg.question1"
   ]
  },
  {
   "cell_type": "code",
   "execution_count": 13,
   "metadata": {},
   "outputs": [
    {
     "data": {
      "text/plain": [
       "'As a competitor in academic-scientific competitions, what motivated you to participate and achieve consecutive gold and silver medals in various fields? How did you balance your time and resources to prepare for these competitions?'"
      ]
     },
     "execution_count": 13,
     "metadata": {},
     "output_type": "execute_result"
    }
   ],
   "source": [
    "ai_msg.question2"
   ]
  },
  {
   "cell_type": "code",
   "execution_count": 14,
   "metadata": {},
   "outputs": [
    {
     "data": {
      "text/plain": [
       "\"In your role as a developer intern at Insper, can you walk us through a challenging project you worked on, such as the transfer of a programming format from one of the institution's servers? How did you approach the problem, and what skills did you use to overcome any obstacles?\""
      ]
     },
     "execution_count": 14,
     "metadata": {},
     "output_type": "execute_result"
    }
   ],
   "source": [
    "ai_msg.question3"
   ]
  },
  {
   "cell_type": "code",
   "execution_count": null,
   "metadata": {},
   "outputs": [],
   "source": []
  }
 ],
 "metadata": {
  "kernelspec": {
   "display_name": ".venv",
   "language": "python",
   "name": "python3"
  },
  "language_info": {
   "codemirror_mode": {
    "name": "ipython",
    "version": 3
   },
   "file_extension": ".py",
   "mimetype": "text/x-python",
   "name": "python",
   "nbconvert_exporter": "python",
   "pygments_lexer": "ipython3",
   "version": "3.10.11"
  }
 },
 "nbformat": 4,
 "nbformat_minor": 2
}
