{
 "cells": [
  {
   "cell_type": "code",
   "execution_count": 1,
   "metadata": {},
   "outputs": [
    {
     "data": {
      "text/plain": [
       "True"
      ]
     },
     "execution_count": 1,
     "metadata": {},
     "output_type": "execute_result"
    }
   ],
   "source": [
    "from langchain.text_splitter import RecursiveCharacterTextSplitter\n",
    "from langchain_openai import ChatOpenAI, OpenAIEmbeddings\n",
    "from langchain_groq import ChatGroq\n",
    "\n",
    "import os\n",
    "from dotenv import load_dotenv\n",
    "from operator import itemgetter\n",
    "\n",
    "from langchain_core.prompts import ChatPromptTemplate\n",
    "from langchain_core.output_parsers import StrOutputParser\n",
    "\n",
    "from langchain_core.runnables import RunnableLambda\n",
    "from langchain_community.document_loaders import PyPDFLoader\n",
    "\n",
    "load_dotenv()"
   ]
  },
  {
   "cell_type": "code",
   "execution_count": 6,
   "metadata": {},
   "outputs": [],
   "source": [
    "system = \"\"\"\n",
    "\n",
    "Você é um assistente muito útil que irá me ajudar a estudar para o ENEM.\n",
    "\n",
    "\"\"\"\n",
    "\n",
    "\"\"\"\n",
    "\n",
    "Modelos disponíveis:\n",
    "\n",
    "- mixtral-8x7b-32768\n",
    "- llama-guard-3-8b -> Somente para guardrails\n",
    "- llama-3.2-90b-text-preview\n",
    "- llama3-70b-8192\n",
    "- llama-3.1-70b-versatile\n",
    "\n",
    "\"\"\"\n",
    "\n",
    "\n",
    "llm = ChatGroq(model=\"llama-3.2-90b-text-preview\", temperature=0)\n",
    "\n",
    "\n",
    "system_prompt = \"\"\"\n",
    "Você vai receber uma descrição de vaga de emprego e a cultura dessa empresa.\n",
    "\"\"\"\n",
    "\n",
    "messages = [\n",
    "    (\"system\", system_prompt),\n",
    "    (\"system\", \"Aqui está descrição da vaga : {descricao}\"),\n",
    "    (\"system\", \"Aqui está o texto relacionado a cultura da empresa: {descricao_cultura}\"),\n",
    "    (\"system\", \"Você irá criar uma biografia que comtemple as duas descrições em apenas um texto.\"),\n",
    "    (\"system\", \"Coloque no texto os princpais pontos para fazer o match com o perfil do candidato\"),\n",
    "]\n",
    "\n",
    "prompt = ChatPromptTemplate.from_messages(messages)\n",
    "\n",
    "chain = prompt | llm | StrOutputParser()"
   ]
  },
  {
   "cell_type": "code",
   "execution_count": 7,
   "metadata": {},
   "outputs": [],
   "source": [
    "descricao = \"\"\"\n",
    "Vaga: Desenvolvedor(a) de Software Júnior\n",
    "Descrição da Vaga: Estamos em busca de um(a) Desenvolvedor(a) de Software Júnior para integrar nosso time de tecnologia! Se você é apaixonado(a) por programação, gosta de resolver problemas complexos e busca constantemente aprimorar suas habilidades, essa oportunidade é para você. Na nossa empresa, você terá a chance de colaborar com um time dinâmico e inovador, participando do desenvolvimento e da manutenção de sistemas escaláveis e de alto desempenho.\n",
    "\n",
    "Responsabilidades:\n",
    "\n",
    "Desenvolver e manter aplicações, trabalhando no back-end e/ou front-end conforme o projeto.\n",
    "Colaborar com designers e outros desenvolvedores para aprimorar funcionalidades e garantir uma excelente experiência do usuário.\n",
    "Escrever e revisar código limpo, eficiente e bem documentado.\n",
    "Participar de sessões de brainstorming para soluções criativas e inovadoras.\n",
    "Trabalhar em um ambiente ágil e colaborativo, seguindo metodologias como Scrum e Kanban.\n",
    "Requisitos:\n",
    "\n",
    "Conhecimento em linguagens de programação como JavaScript, Python, ou Java.\n",
    "Experiência com frameworks modernos de desenvolvimento web (React, Angular, Vue.js) ou back-end (Django, Node.js).\n",
    "Habilidades básicas em SQL e bancos de dados relacionais.\n",
    "Boa comunicação e disposição para trabalhar em equipe.\n",
    "Formação completa ou em andamento em Ciência da Computação, Engenharia de Software, ou áreas relacionadas.\n",
    "Desejável:\n",
    "\n",
    "Experiência com versionamento de código (Git).\n",
    "Noções de metodologias ágeis.\n",
    "Interesse por novas tecnologias e inovação.\n",
    "Oferecemos:\n",
    "\n",
    "Ambiente flexível e aberto a novas ideias.\n",
    "Programa de mentoria e desenvolvimento contínuo.\n",
    "Benefícios como vale-refeição, vale-transporte, plano de saúde e incentivo à educação.\n",
    "Horário de trabalho flexível e possibilidade de home office.\n",
    "\"\"\"\n",
    "\n",
    "\n",
    "descricao_cultura = \"\"\"\n",
    "Cultura da Empresa:\n",
    "Na nossa empresa, acreditamos que inovação e colaboração são essenciais para criar produtos impactantes. \n",
    "Valorizamos a diversidade, a inclusão e o desenvolvimento contínuo de todos os nossos colaboradores. \n",
    "Nosso ambiente é construído sobre pilares de respeito, transparência e autonomia, e incentivamos nossa equipe a compartilhar ideias, \n",
    "explorar novas abordagens e desenvolver soluções criativas. Além disso, estamos comprometidos em criar um impacto positivo tanto \n",
    "internamente quanto para a sociedade, investindo em ações sustentáveis e no desenvolvimento de projetos que beneficiem a \n",
    "comunidade ao nosso redor. Aqui, cada pessoa tem espaço para crescer, contribuir e transformar o futuro da tecnologia!\n",
    "\"\"\""
   ]
  },
  {
   "cell_type": "code",
   "execution_count": 9,
   "metadata": {},
   "outputs": [],
   "source": [
    "result = chain.invoke({\"descricao\" : descricao, \"descricao_cultura\": descricao_cultura})\n"
   ]
  },
  {
   "cell_type": "code",
   "execution_count": 18,
   "metadata": {},
   "outputs": [],
   "source": [
    "# chain create embeddings\n",
    "\n",
    "import faiss\n",
    "from langchain_community.docstore.in_memory import InMemoryDocstore\n",
    "from langchain_community.vectorstores import FAISS\n",
    "\n",
    "\n",
    "\n",
    "embeddings = OpenAIEmbeddings(model=\"text-embedding-3-large\")\n",
    "embedding_size = 3072"
   ]
  },
  {
   "cell_type": "code",
   "execution_count": 22,
   "metadata": {},
   "outputs": [],
   "source": [
    "from uuid import uuid4\n",
    "from langchain_core.documents import Document\n",
    "\n",
    "# Criação de documentos\n",
    "document_1 = Document(\n",
    "    page_content=\"Engenheiro de software experiente com mais de 5 anos em desenvolvimento full-stack, especializado em Python, JavaScript e React.\",\n",
    "    metadata={\"source\": \"currículo\"},\n",
    ")\n",
    "\n",
    "document_2 = Document(\n",
    "    page_content=\"Gerente de projetos com histórico comprovado na coordenação de equipes multifuncionais e entrega de projetos no prazo e dentro do orçamento.\",\n",
    "    metadata={\"source\": \"currículo\"},\n",
    ")\n",
    "\n",
    "document_3 = Document(\n",
    "    page_content=\"Cientista de dados especializado em aprendizado de máquina, análise estatística e visualização de dados. Proficiente em Python, R e SQL.\",\n",
    "    metadata={\"source\": \"currículo\"},\n",
    ")\n",
    "\n",
    "document_4 = Document(\n",
    "    page_content=\"Especialista em marketing focado em estratégias digitais, campanhas de mídia social e criação de conteúdo. Experiente em SEO e publicidade PPC.\",\n",
    "    metadata={\"source\": \"currículo\"},\n",
    ")\n",
    "\n",
    "document_5 = Document(\n",
    "    page_content=\"Designer gráfico com expertise no Adobe Creative Suite e sólida experiência em branding, narrativa visual e design UX/UI.\",\n",
    "    metadata={\"source\": \"currículo\"},\n",
    ")\n",
    "\n",
    "document_6 = Document(\n",
    "    page_content=\"Profissional de recursos humanos com experiência em recrutamento, relações com colaboradores e gestão de talentos. Conhecido por fortes habilidades interpessoais.\",\n",
    "    metadata={\"source\": \"currículo\"},\n",
    ")\n",
    "\n",
    "document_7 = Document(\n",
    "    page_content=\"Analista financeiro com experiência em previsão, orçamento e modelagem financeira. Proficiente em Excel, Power BI e SAP.\",\n",
    "    metadata={\"source\": \"currículo\"},\n",
    ")\n",
    "\n",
    "document_8 = Document(\n",
    "    page_content=\"Desenvolvedor front-end com expertise em HTML, CSS, JavaScript e paixão por criar websites responsivos e acessíveis.\",\n",
    "    metadata={\"source\": \"currículo\"},\n",
    ")\n",
    "\n",
    "document_9 = Document(\n",
    "    page_content=\"Analista de negócios experiente, com habilidades em melhoria de processos, análise de dados e gestão de stakeholders. Conhecido pela atenção aos detalhes.\",\n",
    "    metadata={\"source\": \"currículo\"},\n",
    ")\n",
    "\n",
    "document_10 = Document(\n",
    "    page_content=\"Representante de atendimento ao cliente com mais de 3 anos de experiência em gerenciamento de solicitações, resolução de reclamações e prestação de serviço excepcional.\",\n",
    "    metadata={\"source\": \"currículo\"},\n",
    ")\n",
    "\n",
    "\n",
    "# Lista de documentos\n",
    "documents = [\n",
    "    document_1,\n",
    "    document_2,\n",
    "    document_3,\n",
    "    document_4,\n",
    "    document_5,\n",
    "    document_6,\n",
    "    document_7,\n",
    "    document_8,\n",
    "    document_9,\n",
    "    document_10,\n",
    "]\n",
    "\n",
    "# Geração de IDs únicos\n",
    "uuids = [str(uuid4()) for _ in range(len(documents))]\n",
    "\n",
    "db = FAISS.from_documents(documents, embeddings)"
   ]
  },
  {
   "cell_type": "code",
   "execution_count": 23,
   "metadata": {},
   "outputs": [],
   "source": [
    "query = result\n",
    "docs_retriver = db.similarity_search(query, k=5)"
   ]
  },
  {
   "cell_type": "code",
   "execution_count": 24,
   "metadata": {},
   "outputs": [
    {
     "data": {
      "text/plain": [
       "[Document(metadata={'source': 'currículo'}, page_content='Engenheiro de software experiente com mais de 5 anos em desenvolvimento full-stack, especializado em Python, JavaScript e React.'),\n",
       " Document(metadata={'source': 'currículo'}, page_content='Desenvolvedor front-end com expertise em HTML, CSS, JavaScript e paixão por criar websites responsivos e acessíveis.'),\n",
       " Document(metadata={'source': 'currículo'}, page_content='Cientista de dados especializado em aprendizado de máquina, análise estatística e visualização de dados. Proficiente em Python, R e SQL.'),\n",
       " Document(metadata={'source': 'currículo'}, page_content='Profissional de recursos humanos com experiência em recrutamento, relações com colaboradores e gestão de talentos. Conhecido por fortes habilidades interpessoais.'),\n",
       " Document(metadata={'source': 'currículo'}, page_content='Analista de negócios experiente, com habilidades em melhoria de processos, análise de dados e gestão de stakeholders. Conhecido pela atenção aos detalhes.')]"
      ]
     },
     "execution_count": 24,
     "metadata": {},
     "output_type": "execute_result"
    }
   ],
   "source": [
    "docs_retriver"
   ]
  },
  {
   "cell_type": "code",
   "execution_count": null,
   "metadata": {},
   "outputs": [],
   "source": [
    "# "
   ]
  },
  {
   "cell_type": "code",
   "execution_count": 223,
   "metadata": {},
   "outputs": [],
   "source": [
    "curriculo_pdf = \"../data/curriculos/curriculo_HUDSON.pdf\"\n",
    "curriculo_docs = \"../data/curriculos/curriculo_HUDSON.docx\"\n"
   ]
  },
  {
   "cell_type": "code",
   "execution_count": 224,
   "metadata": {},
   "outputs": [],
   "source": [
    "from llama_parse import LlamaParse\n",
    "\n",
    "import joblib\n",
    "import os\n",
    "import nest_asyncio \n",
    "nest_asyncio.apply()\n",
    "\n",
    "parsingInstructionsInterviewer = \"\"\"\n",
    "O documento a seguir é um currículo de um possível candidato em busca de vagas.\n",
    "No documento, haverá uma seção contendo as habilidades do candidato.\n",
    "Extraia o que conseguir dessas partes\n",
    "\"\"\""
   ]
  },
  {
   "cell_type": "code",
   "execution_count": 225,
   "metadata": {},
   "outputs": [],
   "source": [
    "llamaparse = LlamaParse(parsing_instruction=parsingInstructionsInterviewer, result_type=\"markdown\")\n"
   ]
  },
  {
   "cell_type": "code",
   "execution_count": 226,
   "metadata": {},
   "outputs": [
    {
     "name": "stdout",
     "output_type": "stream",
     "text": [
      "Started parsing the file under job_id 34f44358-19f8-40a6-87fb-4d58f9e0cad0\n"
     ]
    }
   ],
   "source": [
    "parsed_result = llamaparse.get_json_result(curriculo_pdf)"
   ]
  },
  {
   "cell_type": "code",
   "execution_count": 227,
   "metadata": {},
   "outputs": [],
   "source": [
    "    \n",
    "# all_informations\n",
    "all_text = \"\"\n",
    "for i in range(len(parsed_result[0]['pages'])):\n",
    "    all_text += parsed_result[0]['pages'][i]['md']"
   ]
  },
  {
   "cell_type": "code",
   "execution_count": null,
   "metadata": {},
   "outputs": [],
   "source": [
    "from pydantic import BaseModel, Field\n",
    "from typing import List\n",
    "\n",
    "class Activity(BaseModel):\n",
    "    \"\"\"\n",
    "    Uma descrição detalhada de uma atividade e o papel do candidato nela.\n",
    "    \"\"\"\n",
    "    descricao: str = Field(description=\"Descrição da habilidade\")\n",
    "    proficiencia: str = Field(description=\"Nível de proficiência\")\n",
    "\n",
    "class Topics(BaseModel):\n",
    "    \"\"\"\n",
    "    Listas de possíveis tópicos importantes para um candidato.\n",
    "    \"\"\"\n",
    "    habilidades : List[Activity]\n",
    "    "
   ]
  },
  {
   "cell_type": "code",
   "execution_count": 229,
   "metadata": {},
   "outputs": [],
   "source": [
    "from langchain_core.prompts import ChatPromptTemplate\n",
    "\n",
    "messages = [\n",
    "    (\n",
    "        \"system\",\n",
    "        \"Você é um assistente útil que ajuda a identificar as habilidades de um candidato com base no seguinte currículo: {curriculo}.\",\n",
    "    ),\n",
    "    (\n",
    "        \"system\",\n",
    "        \"Aqui estão os tópicos:\"\n",
    "    )\n",
    "]\n",
    "\n",
    "prompt = ChatPromptTemplate.from_messages(messages)\n",
    "\n",
    "chat_model = llm.with_structured_output(Topics)\n",
    "\n",
    "chain_structured = prompt | chat_model\n",
    "response = chain_structured.invoke({\"curriculo\": all_text})\n"
   ]
  },
  {
   "cell_type": "code",
   "execution_count": 230,
   "metadata": {},
   "outputs": [
    {
     "data": {
      "text/plain": [
       "Topics(habilidades=[Activity(descricao='Ciência dos Dados', proficiencia='Avançado'), Activity(descricao='Linguagens de Programação', proficiencia='Avançado'), Activity(descricao='Desenvolvimento de Software', proficiencia='Avançado'), Activity(descricao='Experiência em Análise e Automação', proficiencia='Intermediário'), Activity(descricao='Ensino e Tutoria', proficiencia='Intermediário'), Activity(descricao='Trabalho em Equipe e Colaboração', proficiencia='Intermediário')])"
      ]
     },
     "execution_count": 230,
     "metadata": {},
     "output_type": "execute_result"
    }
   ],
   "source": [
    "response"
   ]
  }
 ],
 "metadata": {
  "kernelspec": {
   "display_name": "env",
   "language": "python",
   "name": "python3"
  },
  "language_info": {
   "codemirror_mode": {
    "name": "ipython",
    "version": 3
   },
   "file_extension": ".py",
   "mimetype": "text/x-python",
   "name": "python",
   "nbconvert_exporter": "python",
   "pygments_lexer": "ipython3",
   "version": "3.10.6"
  }
 },
 "nbformat": 4,
 "nbformat_minor": 2
}
